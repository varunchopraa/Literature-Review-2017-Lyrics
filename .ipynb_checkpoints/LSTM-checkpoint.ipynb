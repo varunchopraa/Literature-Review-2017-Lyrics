{
 "cells": [
  {
   "cell_type": "code",
   "execution_count": 1,
   "metadata": {},
   "outputs": [],
   "source": [
    "import os\n",
    "import string\n",
    "import csv\n",
    "import gensim\n",
    "from nltk.corpus import stopwords\n",
    "from nltk.tokenize import word_tokenize, sent_tokenize\n",
    "from sklearn.utils import shuffle\n",
    "import numpy as np\n",
    "import matplotlib.pyplot as plt\n",
    "import pandas as pd\n",
    "from sklearn import preprocessing\n",
    "from nltk.stem.porter import PorterStemmer\n",
    "from nltk.stem import WordNetLemmatizer"
   ]
  },
  {
   "cell_type": "code",
   "execution_count": 2,
   "metadata": {},
   "outputs": [
    {
     "name": "stderr",
     "output_type": "stream",
     "text": [
      "[nltk_data] Downloading package stopwords to\n",
      "[nltk_data]     /Users/varunchopra/nltk_data...\n",
      "[nltk_data]   Package stopwords is already up-to-date!\n",
      "[nltk_data] Downloading package words to\n",
      "[nltk_data]     /Users/varunchopra/nltk_data...\n",
      "[nltk_data]   Package words is already up-to-date!\n",
      "[nltk_data] Downloading package wordnet to\n",
      "[nltk_data]     /Users/varunchopra/nltk_data...\n",
      "[nltk_data]   Package wordnet is already up-to-date!\n",
      "[nltk_data] Downloading package punkt to\n",
      "[nltk_data]     /Users/varunchopra/nltk_data...\n",
      "[nltk_data]   Package punkt is already up-to-date!\n"
     ]
    },
    {
     "data": {
      "text/plain": [
       "True"
      ]
     },
     "execution_count": 2,
     "metadata": {},
     "output_type": "execute_result"
    }
   ],
   "source": [
    "import nltk\n",
    "nltk.download('stopwords')\n",
    "nltk.download('words')\n",
    "nltk.download('wordnet')\n",
    "nltk.download('punkt')"
   ]
  },
  {
   "cell_type": "code",
   "execution_count": 3,
   "metadata": {},
   "outputs": [
    {
     "name": "stdout",
     "output_type": "stream",
     "text": [
      "['i', 'me', 'my', 'myself', 'we', 'our', 'ours', 'ourselves', 'you', 'youre', 'youve', 'youll', 'youd', 'your', 'yours', 'yourself', 'yourselves', 'he', 'him', 'his', 'himself', 'she', 'shes', 'her', 'hers', 'herself', 'it', 'its', 'its', 'itself', 'they', 'them', 'their', 'theirs', 'themselves', 'what', 'which', 'who', 'whom', 'this', 'that', 'thatll', 'these', 'those', 'am', 'is', 'are', 'was', 'were', 'be', 'been', 'being', 'have', 'has', 'had', 'having', 'do', 'does', 'did', 'doing', 'a', 'an', 'the', 'and', 'but', 'if', 'or', 'because', 'as', 'until', 'while', 'of', 'at', 'by', 'for', 'with', 'about', 'against', 'between', 'into', 'through', 'during', 'before', 'after', 'above', 'below', 'to', 'from', 'up', 'down', 'in', 'out', 'on', 'off', 'over', 'under', 'again', 'further', 'then', 'once', 'here', 'there', 'when', 'where', 'why', 'how', 'all', 'any', 'both', 'each', 'few', 'more', 'most', 'other', 'some', 'such', 'no', 'nor', 'not', 'only', 'own', 'same', 'so', 'than', 'too', 'very', 's', 't', 'can', 'will', 'just', 'don', 'dont', 'should', 'shouldve', 'now', 'd', 'll', 'm', 'o', 're', 've', 'y', 'ain', 'aren', 'arent', 'couldn', 'couldnt', 'didn', 'didnt', 'doesn', 'doesnt', 'hadn', 'hadnt', 'hasn', 'hasnt', 'haven', 'havent', 'isn', 'isnt', 'ma', 'mightn', 'mightnt', 'mustn', 'mustnt', 'needn', 'neednt', 'shan', 'shant', 'shouldn', 'shouldnt', 'wasn', 'wasnt', 'weren', 'werent', 'won', 'wont', 'wouldn', 'wouldnt']\n"
     ]
    }
   ],
   "source": [
    "stop_words = (stopwords.words('english'))\n",
    "stopWords = []\n",
    "for word in stop_words:\n",
    "    word = word.translate(str.maketrans('','',string.punctuation))\n",
    "    stopWords.append(word)\n",
    "print(stopWords)"
   ]
  },
  {
   "cell_type": "code",
   "execution_count": 64,
   "metadata": {},
   "outputs": [
    {
     "name": "stdout",
     "output_type": "stream",
     "text": [
      "way wind blow \n"
     ]
    }
   ],
   "source": [
    "genresList = ['blues_lyrics', 'country_lyrics', 'disco_lyrics', 'hiphop_lyrics', 'metal_lyrics', 'pop_lyrics', 'reggae_lyrics', 'rock_lyrics']\n",
    "genreLyrics = dict()\n",
    "lyricStopped = {\n",
    "    'blues': list(),\n",
    "    'country': list(),\n",
    "    'disco': list(),\n",
    "    'hiphop': list(),\n",
    "    'metal': list(),\n",
    "    'pop': list(),\n",
    "    'reggae': list(),\n",
    "    'rock': list(),\n",
    "}\n",
    "\n",
    "lmtzr = WordNetLemmatizer()\n",
    "porter = PorterStemmer()\n",
    "\n",
    "header = ['sentence', 'genre']\n",
    "\n",
    "with open(f'sentences.csv', 'w', newline = \"\") as file:\n",
    "    writer = csv.writer(file)\n",
    "    writer.writerow(header)\n",
    "\n",
    "for genreName in genresList:\n",
    "    genre = os.listdir(f'../genres2/{genreName}')\n",
    "    \n",
    "    for song in genre:\n",
    "        \n",
    "        if song == '.DS_Store':\n",
    "            continue\n",
    "            \n",
    "        path = f'../genres2/{genreName}/{song}'\n",
    "        songName = open(path, 'r')\n",
    "        lyric = songName.read().lower()\n",
    "\n",
    "        lyric = lyric.translate(str.maketrans('','',string.punctuation))\n",
    "\n",
    "        paragraphs = [p for p in lyric.split('\\n') if p]\n",
    "        for paragraph in paragraphs:\n",
    "            sentence = sent_tokenize(paragraph)    \n",
    "            lyricStopped[genreName.replace('_lyrics','')].append(sentence)\n",
    "\n",
    "    with open(f'sentences.csv', 'a', newline = \"\") as file:\n",
    "        writer = csv.writer(file)\n",
    "        for key, value in lyricStopped.items():\n",
    "            for g in value:\n",
    "                g = str(g)\n",
    "                g = g.replace('[\\'','')\n",
    "                g = g.replace('\\']','')\n",
    "                words = g.split()\n",
    "                \n",
    "                words = [w for w in words if not w in stopWords]\n",
    "                words = [lmtzr.lemmatize(x) for x in words]\n",
    "                words = [porter.stem(x) for x in words]\n",
    "                g = ''\n",
    "                \n",
    "                for word in words:\n",
    "                    g += word + ' '\n",
    "                    \n",
    "                writer.writerow([g, key])\n",
    "print(g)"
   ]
  },
  {
   "cell_type": "code",
   "execution_count": 201,
   "metadata": {},
   "outputs": [
    {
     "name": "stdout",
     "output_type": "stream",
     "text": [
      "['true love goneha play fool ' 'true love goneha play fool '\n",
      " 'im turnin tabl ' ... 'noth realli matter ' 'noth realli matter '\n",
      " 'way wind blow ']\n",
      "['blues' 'blues' 'blues' ... 'rock' 'rock' 'rock']\n"
     ]
    }
   ],
   "source": [
    "dataset = pd.read_csv('sentences.csv')\n",
    "X = dataset.iloc[:, 0].values\n",
    "y = dataset.iloc[:, 1].values\n",
    "\n",
    "print(X)\n",
    "print(y)"
   ]
  },
  {
   "cell_type": "code",
   "execution_count": 202,
   "metadata": {},
   "outputs": [
    {
     "data": {
      "image/png": "[encoded data removed]",
      "text/plain": [
       "<Figure size 576x432 with 1 Axes>"
      ]
     },
     "metadata": {
      "needs_background": "light"
     },
     "output_type": "display_data"
    }
   ],
   "source": [
    "fig = plt.figure(figsize=(8,6))\n",
    "dataset.groupby('genre').sentence.count().plot.bar(ylim=0)\n",
    "plt.show()"
   ]
  },
  {
   "cell_type": "code",
   "execution_count": 203,
   "metadata": {},
   "outputs": [
    {
     "data": {
      "text/plain": [
       "(115395,)"
      ]
     },
     "execution_count": 203,
     "metadata": {},
     "output_type": "execute_result"
    }
   ],
   "source": [
    "sentence = X[:]\n",
    "sentence.shape"
   ]
  },
  {
   "cell_type": "code",
   "execution_count": 204,
   "metadata": {},
   "outputs": [
    {
     "data": {
      "text/plain": [
       "(115395, 1)"
      ]
     },
     "execution_count": 204,
     "metadata": {},
     "output_type": "execute_result"
    }
   ],
   "source": [
    "le = preprocessing.LabelEncoder()\n",
    "sent_encoded=le.fit_transform(sentence.astype(str))\n",
    "sent_encoded = np.reshape(sent_encoded,(-1,1))\n",
    "sent_encoded.shape"
   ]
  },
  {
   "cell_type": "code",
   "execution_count": 205,
   "metadata": {},
   "outputs": [
    {
     "name": "stdout",
     "output_type": "stream",
     "text": [
      "(115395, 1)\n"
     ]
    },
    {
     "data": {
      "text/plain": [
       "(115395,)"
      ]
     },
     "execution_count": 205,
     "metadata": {},
     "output_type": "execute_result"
    }
   ],
   "source": [
    "features = np.row_stack(sent_encoded)\n",
    "print(features.shape)\n",
    "y.shape"
   ]
  },
  {
   "cell_type": "markdown",
   "metadata": {},
   "source": [
    "## Naive Bayes "
   ]
  },
  {
   "cell_type": "code",
   "execution_count": 206,
   "metadata": {},
   "outputs": [],
   "source": [
    "from sklearn.model_selection import train_test_split\n",
    "X_train, X_test, y_train, y_test = train_test_split(features, y, test_size = 0.25, random_state = 42)"
   ]
  },
  {
   "cell_type": "code",
   "execution_count": 207,
   "metadata": {},
   "outputs": [
    {
     "data": {
      "text/plain": [
       "GaussianNB(priors=None, var_smoothing=1e-09)"
      ]
     },
     "execution_count": 207,
     "metadata": {},
     "output_type": "execute_result"
    }
   ],
   "source": [
    "from sklearn.naive_bayes import GaussianNB\n",
    "classifier = GaussianNB()\n",
    "classifier.fit(X_train,y_train)"
   ]
  },
  {
   "cell_type": "code",
   "execution_count": 208,
   "metadata": {},
   "outputs": [],
   "source": [
    "y_pred = classifier.predict(X_test)"
   ]
  },
  {
   "cell_type": "code",
   "execution_count": 209,
   "metadata": {},
   "outputs": [
    {
     "name": "stdout",
     "output_type": "stream",
     "text": [
      "[[   0    0    0 2820    0    0    0    0]\n",
      " [   0    0    0 4178    0    0    0    0]\n",
      " [   0    0    0 5692    0    0    0    0]\n",
      " [   0    0    0 7973    0    0    0    0]\n",
      " [   0    0    0 3355    0    0    0    0]\n",
      " [   0    0    0 2162    0    0    0    0]\n",
      " [   0    0    0 1808    0    0    0    0]\n",
      " [   0    0    0  861    0    0    0    0]]\n"
     ]
    }
   ],
   "source": [
    "from sklearn.metrics import confusion_matrix\n",
    "cm = confusion_matrix(y_test, y_pred)\n",
    "print(cm)"
   ]
  },
  {
   "cell_type": "code",
   "execution_count": 210,
   "metadata": {},
   "outputs": [
    {
     "name": "stdout",
     "output_type": "stream",
     "text": [
      "Accuracy: 0.27637006482027104\n"
     ]
    }
   ],
   "source": [
    "from sklearn import metrics\n",
    "\n",
    "# Model Accuracy, how often is the classifier correct?\n",
    "print(\"Accuracy:\",metrics.accuracy_score(y_test, y_pred))"
   ]
  },
  {
   "cell_type": "markdown",
   "metadata": {},
   "source": [
    "## Logistic Regression"
   ]
  },
  {
   "cell_type": "code",
   "execution_count": 211,
   "metadata": {},
   "outputs": [
    {
     "name": "stderr",
     "output_type": "stream",
     "text": [
      "/Library/Frameworks/Python.framework/Versions/3.7/lib/python3.7/site-packages/sklearn/linear_model/logistic.py:432: FutureWarning: Default solver will be changed to 'lbfgs' in 0.22. Specify a solver to silence this warning.\n",
      "  FutureWarning)\n",
      "/Library/Frameworks/Python.framework/Versions/3.7/lib/python3.7/site-packages/sklearn/linear_model/logistic.py:469: FutureWarning: Default multi_class will be changed to 'auto' in 0.22. Specify the multi_class option to silence this warning.\n",
      "  \"this warning.\", FutureWarning)\n"
     ]
    },
    {
     "name": "stdout",
     "output_type": "stream",
     "text": [
      "Accuracy: 0.27058130264480573\n"
     ]
    }
   ],
   "source": [
    "from sklearn.linear_model import LogisticRegression\n",
    "\n",
    "classifier = LogisticRegression()\n",
    "classifier.fit(X_train, y_train)\n",
    "score = classifier.score(X_test, y_test)\n",
    "\n",
    "print(\"Accuracy:\", score)"
   ]
  },
  {
   "cell_type": "code",
   "execution_count": 212,
   "metadata": {},
   "outputs": [
    {
     "name": "stdout",
     "output_type": "stream",
     "text": [
      "(86546, 1) (86546,)\n",
      "(28849, 1) (28849,)\n"
     ]
    }
   ],
   "source": [
    "print(X_train.shape,y_train.shape)\n",
    "print(X_test.shape,y_test.shape)"
   ]
  },
  {
   "cell_type": "markdown",
   "metadata": {},
   "source": [
    "## LSTM"
   ]
  },
  {
   "cell_type": "code",
   "execution_count": 326,
   "metadata": {},
   "outputs": [
    {
     "name": "stderr",
     "output_type": "stream",
     "text": [
      "/Library/Frameworks/Python.framework/Versions/3.7/lib/python3.7/site-packages/tensorflow_core/python/framework/indexed_slices.py:424: UserWarning: Converting sparse IndexedSlices to a dense Tensor of unknown shape. This may consume a large amount of memory.\n",
      "  \"Converting sparse IndexedSlices to a dense Tensor of unknown shape. \"\n"
     ]
    },
    {
     "name": "stdout",
     "output_type": "stream",
     "text": [
      "Train on 86546 samples, validate on 28849 samples\n",
      "Epoch 1/5\n",
      "86546/86546 [==============================] - 67s 773us/step - loss: 0.8453 - accuracy: 0.7200 - val_loss: 0.2096 - val_accuracy: 0.9351\n",
      "Epoch 2/5\n",
      "86546/86546 [==============================] - 67s 780us/step - loss: 0.1518 - accuracy: 0.9536 - val_loss: 0.1393 - val_accuracy: 0.9568\n",
      "Epoch 3/5\n",
      "86546/86546 [==============================] - 66s 766us/step - loss: 0.1062 - accuracy: 0.9652 - val_loss: 0.1223 - val_accuracy: 0.9566\n",
      "Epoch 4/5\n",
      "86546/86546 [==============================] - 66s 762us/step - loss: 0.0926 - accuracy: 0.9664 - val_loss: 0.1194 - val_accuracy: 0.9594\n",
      "Epoch 5/5\n",
      "86546/86546 [==============================] - 66s 762us/step - loss: 0.0885 - accuracy: 0.9664 - val_loss: 0.1163 - val_accuracy: 0.9577\n"
     ]
    }
   ],
   "source": [
    "from keras.models import Sequential\n",
    "from keras import layers\n",
    "from keras.layers import Embedding, SpatialDropout1D, LSTM, Dense\n",
    "from keras.callbacks import ModelCheckpoint, EarlyStopping\n",
    "from sklearn.preprocessing import LabelEncoder\n",
    "\n",
    "dataset = pd.read_csv('sentences.csv')\n",
    "X = dataset.iloc[:, 0].values\n",
    "y = dataset.iloc[:, 1].values\n",
    "\n",
    "encoder = LabelEncoder()\n",
    "y_enc = encoder.fit_transform(y)\n",
    "\n",
    "X_train, X_test, y_train, y_test = train_test_split(features, y_enc, test_size = 0.25, random_state = 42)\n",
    "\n",
    "# The maximum number of words to be used. (most frequent)\n",
    "MAX_NB_WORDS = 50000\n",
    "# Max number of words in each complaint.\n",
    "MAX_SEQUENCE_LENGTH = 250\n",
    "# This is fixed.\n",
    "EMBEDDING_DIM = 100\n",
    "\n",
    "model = Sequential()\n",
    "model.add(Embedding(MAX_NB_WORDS, EMBEDDING_DIM, input_length=X_train.shape[1]))\n",
    "model.add(SpatialDropout1D(0.2))\n",
    "model.add(LSTM(100, dropout=0.2, recurrent_dropout=0.2))\n",
    "model.add(Dense(8, activation='softmax'))\n",
    "model.compile(loss='sparse_categorical_crossentropy', optimizer='adam', metrics=['accuracy'])\n",
    "\n",
    "epochs = 5\n",
    "batch_size = 64\n",
    "\n",
    "history = model.fit(X_train, y_train, epochs=epochs, batch_size=batch_size,validation_data=(X_test, y_test),callbacks=[EarlyStopping(monitor='val_loss', patience=3, min_delta=0.0001)])"
   ]
  },
  {
   "cell_type": "code",
   "execution_count": 327,
   "metadata": {},
   "outputs": [
    {
     "name": "stdout",
     "output_type": "stream",
     "text": [
      "28849/28849 [==============================] - 1s 19us/step\n",
      "Test set\n",
      "  Loss: 0.116\n",
      "  Accuracy: 0.958\n"
     ]
    }
   ],
   "source": [
    "accr = model.evaluate(X_test,y_test)\n",
    "print('Test set\\n  Loss: {:0.3f}\\n  Accuracy: {:0.3f}'.format(accr[0],accr[1]))"
   ]
  },
  {
   "cell_type": "code",
   "execution_count": 328,
   "metadata": {},
   "outputs": [
    {
     "data": {
      "image/png": "[encoded data removed]",
      "text/plain": [
       "<Figure size 432x288 with 1 Axes>"
      ]
     },
     "metadata": {
      "needs_background": "light"
     },
     "output_type": "display_data"
    }
   ],
   "source": [
    "plt.title('Loss')\n",
    "plt.plot(history.history['loss'], label='train')\n",
    "plt.plot(history.history['val_loss'], label='test')\n",
    "plt.legend()\n",
    "plt.show();"
   ]
  },
  {
   "cell_type": "code",
   "execution_count": 329,
   "metadata": {},
   "outputs": [
    {
     "data": {
      "image/png": "[encoded data removed]",
      "text/plain": [
       "<Figure size 432x288 with 1 Axes>"
      ]
     },
     "metadata": {
      "needs_background": "light"
     },
     "output_type": "display_data"
    }
   ],
   "source": [
    "plt.title('Accuracy')\n",
    "plt.plot(history.history['accuracy'], label='train')\n",
    "plt.plot(history.history['val_accuracy'], label='test')\n",
    "plt.legend()\n",
    "plt.show();"
   ]
  },
  {
   "cell_type": "code",
   "execution_count": 331,
   "metadata": {},
   "outputs": [
    {
     "name": "stdout",
     "output_type": "stream",
     "text": [
      "look, i was gonna go easy on you and not to hurt your feelings\n",
      "but i'm only going to get this one chance\n",
      "something's wrong, i can feel it (six minutes, slim shady, you're on)\n",
      "just a feeling i've got, like something's about to happen, but i don't know what\n",
      "if that means, what i think it means, we're in trouble, big trouble,\n",
      "and if he is as bananas as you say, i'm not taking any chances\n",
      "you were just what the doctor ordered\n",
      "i'm beginning to feel like a rap god, rap god\n",
      "all my people from the front to the back nod, back nod\n",
      "now who thinks their arms are long enough to slap box, slap box?\n",
      "they said i rap like a robot, so call me rapbot\n",
      "but for me to rap like a computer must be in my genes\n",
      "i got a laptop in my back pocket\n",
      "my pen'll go off when i half-cock it\n",
      "got a fat knot from that rap profit\n",
      "made a living and a killing off it\n",
      "ever since bill clinton was still in office\n",
      "with monica lewinsky feeling on his nut-sack\n",
      "i'm an mc still as honest\n",
      "but as rude and indecent as all hell syllables, killaholic (kill 'em all with)\n",
      "this slickety, gibbedy, hibbedy hip hop\n",
      "you don't really wanna get into a pissing match with this rappidy brat\n",
      "packing a mac in the back of the ac, backpack rap crap, yep, yackidy-yac\n",
      "and at the exact same time i attempt these lyrical acrobat stunts while i'm practicing\n",
      "that i'll still be able to break a motherfuckin' table\n",
      "over the back of a couple of faggots and crack it in half\n",
      "only realized it was ironic i was signed to aftermath after the fact\n",
      "how could i not blow? all i do is drop f-bombs, feel my wrath of attack\n",
      "rappers are having a rough time period, here's a maxipad\n",
      "it's actually disastrously bad\n",
      "for the wack while i'm masterfully constructing this masterpiece as\n",
      "i'm beginning to feel like a rap god, rap god\n",
      "all my people from the front to the back nod, back nod\n",
      "now who thinks their arms are long enough to slap box, slap box?\n",
      "let me show you maintaining this shit ain't that hard, that hard\n",
      "everybody want the key and the secret to rap immortality like i have got\n",
      "well, to be truthful the blueprint's simply rage and youthful exuberance\n",
      "everybody loves to root for a nuisance\n",
      "hit the earth like an asteroid, did nothing but shoot for the moon since\n",
      "mc's get taken to school with this music\n",
      "'cause i use it as a vehicle to bus the rhyme\n",
      "now i lead a new school full of students\n",
      "me? i'm a product of rakim, lakim shabazz, 2pac n-\n",
      "-w.a, cube, hey, doc, ren, yella, eazy, thank you, they got slim\n",
      "inspired enough to one day grow up, blow up and be in a position\n",
      "to meet run dmc and induct them into the motherfuckin' rock n'\n",
      "roll hall of fame\n",
      "even though i walk in the church and burst in a ball of flames\n",
      "only hall of fame i be inducted in is the alcohol of fame\n",
      "on the wall of shame\n",
      "you fags think it's all a game 'til i walk a flock of flames\n",
      "off of planking, tell me what in the fuck are you thinking?\n",
      "little gay looking boy\n",
      "so gay i can barely say it with a straight face looking boy\n",
      "you witnessing a mass occur\n",
      "like you watching a church gathering take place looking boy\n",
      "oy vey, that boy's gay, that's all they say looking boy\n",
      "you get a thumbs up, pat on the back\n",
      "and a \"way to go\" from your label everyday looking boy\n",
      "hey, looking boy, what you say looking boy?\n",
      "i got a \"hell yeah\" from dre looking boy\n",
      "i'mma work for everything i have\n",
      "never ask nobody for shit, get outta my face looking boy\n",
      "basically boy you're never gonna be capable\n",
      "to keep up with the same pace looking boy\n",
      "'cause i'm beginning to feel like a rap god, rap god\n",
      "all my people from the front to the back nod, back nod\n",
      "the way i'm racing around the track, call me nascar, nascar\n",
      "dale earnhardt of the trailer park, the white trash god\n",
      "kneel before general zod this planet's krypton, no asgard, asgard\n",
      "so you be thor and i'll be odin, you rodent, i'm omnipotent\n",
      "let off then i'm reloading immediately with these bombs i'm totin'\n",
      "and i should not be woken\n",
      "i'm the walking dead, but i'm just a talking head, a zombie floating\n",
      "but i got your mom deep throating\n",
      "i'm out my ramen noodle, we have nothing in common, poodle\n",
      "i'm a doberman, pinch yourself in the arm and pay homage, pupil\n",
      "it's me, my honesty's brutal\n",
      "but it's honestly futile if i don't utilize what i do though\n",
      "for good at least once in a while\n",
      "so i wanna make sure somewhere in this chicken scratch i scribble and doodle\n",
      "enough rhymes to maybe to try and help get some people through tough times\n",
      "but i gotta keep a few punchlines just in case 'cause even you unsigned\n",
      "rappers are hungry looking at me like it's lunchtime\n",
      "i know there was a time where once i\n",
      "was king of the underground, but i still rap like i'm on my pharoahe monch grind\n",
      "so i crunch rhymes, but sometimes when you combine\n",
      "appeal with the skin color of mine\n",
      "you get too big and here they come trying to\n",
      "censor you like that one line i said on \"i'm back\" from the mathers lp\n",
      "one when i tried to say \"i'll take seven kids from columbine\n",
      "put 'em all in a line, add an ak-47, a revolver and a nine\"\n",
      "see if i get away with it now that i ain't as big as i was, but i'm\n",
      "morphin' into an immortal coming through the portal\n",
      "you're stuck in a time warp from 2004 though\n",
      "and i don't know what the fuck that you rhyme for\n",
      "you're pointless as rapunzel with fucking cornrows\n",
      "you write normal, fuck being normal\n",
      "and i just bought a new raygun from the future\n",
      "just to come and shoot ya like when fabolous made ray j mad\n",
      "'cause fab said he looked like a fag at maywhether's pad\n",
      "singin' to a man while they played piano\n",
      "man, oh man, that was a 24/7 special on the cable channel\n",
      "so ray j went straight to the radio station the very next day\n",
      "\"hey, fab, i'mma kill you\"\n",
      "lyrics coming at you at supersonic speed, (jj fad)\n",
      "uh, sama lamaa duma lamaa you assuming i'm a human\n",
      "what i gotta do to get it through to you i'm superhuman\n",
      "innovative and i'm made of rubber\n",
      "so that anything you say is ricocheting off of me and it'll glue to you\n",
      "i'm devastating, more than ever demonstrating\n",
      "how to give a motherfuckin' audience a feeling like it's levitating\n",
      "never fading, and i know that the haters are forever waiting\n",
      "for the day that they can say i fell off, they'd be celebrating\n",
      "'cause i know the way to get 'em motivated\n",
      "i make elevating music, you make elevator music\n",
      "oh, he's too mainstream\n",
      "well, that's what they do when they get jealous, they confuse it\n",
      "it's not hip hop, it's pop, 'cause i found a hella way to fuse it\n",
      "with rock, shock rap with doc\n",
      "throw on lose yourself and make 'em lose it\n",
      "i don't know how to make songs like that\n",
      "i don't know what words to use\n",
      "let me know when it occurs to you\n",
      "while i'm ripping any one of these verses diverse as you\n",
      "it's curtains, i'm inadvertently hurtin' you\n",
      "how many verses i gotta murder to\n",
      "prove that if you were half as nice, your songs you can sacrifice virgins too uh!\n",
      "school flunkie, pill junky\n",
      "but look at the accolades the skills brung me\n",
      "full of myself, but still hungry\n",
      "i bully myself 'cause i make me do what i put my mind to\n",
      "and i'm a million leagues above you, ill when i speak in tongues\n",
      "but it's still tongue in cheek, fuck you\n",
      "i'm drunk so satan take the fucking wheel, i'm asleep in the front seat\n",
      "bumping heavy d and the boys, still chunky, but funky\n",
      "but in my head there's something i can feel tugging and struggling\n",
      "angels fight with devils and, here's what they want from me\n",
      "they asking me to eliminate some of the women hate\n",
      "but if you take into consideration the bitter hatred i have\n",
      "then you may be a little patient and more sympathetic to the situation\n",
      "and understand the discrimination\n",
      "but fuck it, life's handing you lemons, make lemonade then\n",
      "but if i can't batter the women how the fuck am i supposed to bake them a cake then?\n",
      "don't mistake it for satan\n",
      "it's a fatal mistake if you think i need to be overseas\n",
      "and take a vacation to trip a broad\n",
      "and make her fall on her face and don't be a retard\n",
      "be a king? think not, why be a king when you can be a god?\n"
     ]
    }
   ],
   "source": [
    "# Prediction\n",
    "testFile = open('test1.txt', 'r')\n",
    "testLyrics = testFile.read().lower()\n",
    "print(testLyrics)"
   ]
  },
  {
   "cell_type": "code",
   "execution_count": 332,
   "metadata": {},
   "outputs": [
    {
     "name": "stdout",
     "output_type": "stream",
     "text": [
      "['look i was gonna go easy on you and not to hurt your feelings', 'but im only going to get this one chance', 'somethings wrong i can feel it six minutes slim shady youre on', 'just a feeling ive got like somethings about to happen but i dont know what', 'if that means what i think it means were in trouble big trouble', 'and if he is as bananas as you say im not taking any chances', 'you were just what the doctor ordered', 'im beginning to feel like a rap god rap god', 'all my people from the front to the back nod back nod', 'now who thinks their arms are long enough to slap box slap box', 'they said i rap like a robot so call me rapbot', 'but for me to rap like a computer must be in my genes', 'i got a laptop in my back pocket', 'my penll go off when i halfcock it', 'got a fat knot from that rap profit', 'made a living and a killing off it', 'ever since bill clinton was still in office', 'with monica lewinsky feeling on his nutsack', 'im an mc still as honest', 'but as rude and indecent as all hell syllables killaholic kill em all with', 'this slickety gibbedy hibbedy hip hop', 'you dont really wanna get into a pissing match with this rappidy brat', 'packing a mac in the back of the ac backpack rap crap yep yackidyyac', 'and at the exact same time i attempt these lyrical acrobat stunts while im practicing', 'that ill still be able to break a motherfuckin table', 'over the back of a couple of faggots and crack it in half', 'only realized it was ironic i was signed to aftermath after the fact', 'how could i not blow all i do is drop fbombs feel my wrath of attack', 'rappers are having a rough time period heres a maxipad', 'its actually disastrously bad', 'for the wack while im masterfully constructing this masterpiece as', 'im beginning to feel like a rap god rap god', 'all my people from the front to the back nod back nod', 'now who thinks their arms are long enough to slap box slap box', 'let me show you maintaining this shit aint that hard that hard', 'everybody want the key and the secret to rap immortality like i have got', 'well to be truthful the blueprints simply rage and youthful exuberance', 'everybody loves to root for a nuisance', 'hit the earth like an asteroid did nothing but shoot for the moon since', 'mcs get taken to school with this music', 'cause i use it as a vehicle to bus the rhyme', 'now i lead a new school full of students', 'me im a product of rakim lakim shabazz 2pac n', 'wa cube hey doc ren yella eazy thank you they got slim', 'inspired enough to one day grow up blow up and be in a position', 'to meet run dmc and induct them into the motherfuckin rock n', 'roll hall of fame', 'even though i walk in the church and burst in a ball of flames', 'only hall of fame i be inducted in is the alcohol of fame', 'on the wall of shame', 'you fags think its all a game til i walk a flock of flames', 'off of planking tell me what in the fuck are you thinking', 'little gay looking boy', 'so gay i can barely say it with a straight face looking boy', 'you witnessing a mass occur', 'like you watching a church gathering take place looking boy', 'oy vey that boys gay thats all they say looking boy', 'you get a thumbs up pat on the back', 'and a way to go from your label everyday looking boy', 'hey looking boy what you say looking boy', 'i got a hell yeah from dre looking boy', 'imma work for everything i have', 'never ask nobody for shit get outta my face looking boy', 'basically boy youre never gonna be capable', 'to keep up with the same pace looking boy', 'cause im beginning to feel like a rap god rap god', 'all my people from the front to the back nod back nod', 'the way im racing around the track call me nascar nascar', 'dale earnhardt of the trailer park the white trash god', 'kneel before general zod this planets krypton no asgard asgard', 'so you be thor and ill be odin you rodent im omnipotent', 'let off then im reloading immediately with these bombs im totin', 'and i should not be woken', 'im the walking dead but im just a talking head a zombie floating', 'but i got your mom deep throating', 'im out my ramen noodle we have nothing in common poodle', 'im a doberman pinch yourself in the arm and pay homage pupil', 'its me my honestys brutal', 'but its honestly futile if i dont utilize what i do though', 'for good at least once in a while', 'so i wanna make sure somewhere in this chicken scratch i scribble and doodle', 'enough rhymes to maybe to try and help get some people through tough times', 'but i gotta keep a few punchlines just in case cause even you unsigned', 'rappers are hungry looking at me like its lunchtime', 'i know there was a time where once i', 'was king of the underground but i still rap like im on my pharoahe monch grind', 'so i crunch rhymes but sometimes when you combine', 'appeal with the skin color of mine', 'you get too big and here they come trying to', 'censor you like that one line i said on im back from the mathers lp', 'one when i tried to say ill take seven kids from columbine', 'put em all in a line add an ak47 a revolver and a nine', 'see if i get away with it now that i aint as big as i was but im', 'morphin into an immortal coming through the portal', 'youre stuck in a time warp from 2004 though', 'and i dont know what the fuck that you rhyme for', 'youre pointless as rapunzel with fucking cornrows', 'you write normal fuck being normal', 'and i just bought a new raygun from the future', 'just to come and shoot ya like when fabolous made ray j mad', 'cause fab said he looked like a fag at maywhethers pad', 'singin to a man while they played piano', 'man oh man that was a 247 special on the cable channel', 'so ray j went straight to the radio station the very next day', 'hey fab imma kill you', 'lyrics coming at you at supersonic speed jj fad', 'uh sama lamaa duma lamaa you assuming im a human', 'what i gotta do to get it through to you im superhuman', 'innovative and im made of rubber', 'so that anything you say is ricocheting off of me and itll glue to you', 'im devastating more than ever demonstrating', 'how to give a motherfuckin audience a feeling like its levitating', 'never fading and i know that the haters are forever waiting', 'for the day that they can say i fell off theyd be celebrating', 'cause i know the way to get em motivated', 'i make elevating music you make elevator music', 'oh hes too mainstream', 'well thats what they do when they get jealous they confuse it', 'its not hip hop its pop cause i found a hella way to fuse it', 'with rock shock rap with doc', 'throw on lose yourself and make em lose it', 'i dont know how to make songs like that', 'i dont know what words to use', 'let me know when it occurs to you', 'while im ripping any one of these verses diverse as you', 'its curtains im inadvertently hurtin you', 'how many verses i gotta murder to', 'prove that if you were half as nice your songs you can sacrifice virgins too uh', 'school flunkie pill junky', 'but look at the accolades the skills brung me', 'full of myself but still hungry', 'i bully myself cause i make me do what i put my mind to', 'and im a million leagues above you ill when i speak in tongues', 'but its still tongue in cheek fuck you', 'im drunk so satan take the fucking wheel im asleep in the front seat', 'bumping heavy d and the boys still chunky but funky', 'but in my head theres something i can feel tugging and struggling', 'angels fight with devils and heres what they want from me', 'they asking me to eliminate some of the women hate', 'but if you take into consideration the bitter hatred i have', 'then you may be a little patient and more sympathetic to the situation', 'and understand the discrimination', 'but fuck it lifes handing you lemons make lemonade then', 'but if i cant batter the women how the fuck am i supposed to bake them a cake then', 'dont mistake it for satan', 'its a fatal mistake if you think i need to be overseas', 'and take a vacation to trip a broad', 'and make her fall on her face and dont be a retard', 'be a king think not why be a king when you can be a god']\n"
     ]
    }
   ],
   "source": [
    "testLyrics = testLyrics.translate(str.maketrans('','',string.punctuation))\n",
    "paragraphs = [p for p in testLyrics.split('\\n') if p]\n",
    "print(paragraphs)\n",
    "# sentence = sent_tokenize(paragraphs)\n",
    "# print(sentence)"
   ]
  },
  {
   "cell_type": "code",
   "execution_count": 333,
   "metadata": {},
   "outputs": [],
   "source": [
    "# from keras.preprocessing.text import Tokenizer\n",
    "# from keras.preprocessing.sequence import pad_sequences\n",
    "# predictedLabels = []\n",
    "# tk = Tokenizer()\n",
    "# from statistics import mode\n",
    "\n",
    "# labels = ['blues', 'country', 'disco', 'hiphop', 'metal','pop','reggae', 'rock']\n",
    "\n",
    "# for sentence in paragraphs:\n",
    "# #     sentence = sent_tokenize(para)\n",
    "# #     g = str(sentence)\n",
    "# #     g = g.replace('[\\'','')\n",
    "# #     g = g.replace('\\']','')\n",
    "#     words = sentence.split()\n",
    "# #     print(words)\n",
    "\n",
    "#     words = [w for w in words if not w in stopWords]\n",
    "#     words = [lmtzr.lemmatize(x) for x in words]\n",
    "#     words = [porter.stem(x) for x in words]\n",
    "#     sentence = ''\n",
    "\n",
    "#     for word in words:\n",
    "#         sentence += word + ' '\n",
    "#     print(sentence)\n",
    "    \n",
    "#     tk.fit_on_texts(sentence)\n",
    "#     index_list = tk.texts_to_sequences(sentence)\n",
    "#     padded = pad_sequences(index_list, maxlen=1)\n",
    "#     pred = model.predict(padded)\n",
    "    \n",
    "#     print(pred)\n",
    "# #     print(pred, labels[np.argmax(pred)])\n",
    "# #     predictedLabels.append(labels[np.argmax(pred)])\n",
    "# # print(mode(predictedLabels))"
   ]
  },
  {
   "cell_type": "code",
   "execution_count": 334,
   "metadata": {},
   "outputs": [
    {
     "name": "stdout",
     "output_type": "stream",
     "text": [
      "hiphop\n"
     ]
    }
   ],
   "source": [
    "from keras.preprocessing.text import Tokenizer\n",
    "from keras.preprocessing.sequence import pad_sequences\n",
    "predictedLabels = []\n",
    "tk = Tokenizer()\n",
    "from statistics import mode\n",
    "\n",
    "labels = ['blues', 'country', 'disco', 'hiphop', 'metal','pop','reggae', 'rock']\n",
    "\n",
    "for para in paragraphs:\n",
    "    sentence = sent_tokenize(para)\n",
    "    \n",
    "    tk.fit_on_texts(sentence)\n",
    "    index_list = tk.texts_to_sequences(sentence)\n",
    "    padded = pad_sequences(index_list, maxlen=1)\n",
    "    pred = model.predict(padded)\n",
    "    \n",
    "#     print(pred)\n",
    "#     print(labels[np.argmax(pred)])\n",
    "    predictedLabels.append(labels[np.argmax(pred)])\n",
    "print(mode(predictedLabels))"
   ]
  }
 ],
 "metadata": {
  "kernelspec": {
   "display_name": "Python 3",
   "language": "python",
   "name": "python3"
  },
  "language_info": {
   "codemirror_mode": {
    "name": "ipython",
    "version": 3
   },
   "file_extension": ".py",
   "mimetype": "text/x-python",
   "name": "python",
   "nbconvert_exporter": "python",
   "pygments_lexer": "ipython3",
   "version": "3.7.4"
  }
 },
 "nbformat": 4,
 "nbformat_minor": 2
}
