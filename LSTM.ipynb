{
 "cells": [
  {
   "cell_type": "code",
   "execution_count": 1,
   "metadata": {},
   "outputs": [],
   "source": [
    "import os\n",
    "import string\n",
    "import csv\n",
    "import gensim\n",
    "from nltk.corpus import stopwords\n",
    "from nltk.tokenize import word_tokenize, sent_tokenize\n",
    "from sklearn.utils import shuffle\n",
    "import numpy as np\n",
    "import matplotlib.pyplot as plt\n",
    "import pandas as pd\n",
    "from sklearn import preprocessing\n",
    "from nltk.stem.porter import PorterStemmer\n",
    "from nltk.stem import WordNetLemmatizer"
   ]
  },
  {
   "cell_type": "code",
   "execution_count": 2,
   "metadata": {},
   "outputs": [
    {
     "name": "stderr",
     "output_type": "stream",
     "text": [
      "[nltk_data] Downloading package stopwords to\n",
      "[nltk_data]     /Users/varunchopra/nltk_data...\n",
      "[nltk_data]   Package stopwords is already up-to-date!\n",
      "[nltk_data] Downloading package words to\n",
      "[nltk_data]     /Users/varunchopra/nltk_data...\n",
      "[nltk_data]   Package words is already up-to-date!\n",
      "[nltk_data] Downloading package wordnet to\n",
      "[nltk_data]     /Users/varunchopra/nltk_data...\n",
      "[nltk_data]   Package wordnet is already up-to-date!\n",
      "[nltk_data] Downloading package punkt to\n",
      "[nltk_data]     /Users/varunchopra/nltk_data...\n",
      "[nltk_data]   Package punkt is already up-to-date!\n"
     ]
    },
    {
     "data": {
      "text/plain": [
       "True"
      ]
     },
     "execution_count": 2,
     "metadata": {},
     "output_type": "execute_result"
    }
   ],
   "source": [
    "import nltk\n",
    "nltk.download('stopwords')\n",
    "nltk.download('words')\n",
    "nltk.download('wordnet')\n",
    "nltk.download('punkt')"
   ]
  },
  {
   "cell_type": "code",
   "execution_count": 3,
   "metadata": {},
   "outputs": [
    {
     "name": "stdout",
     "output_type": "stream",
     "text": [
      "['i', 'me', 'my', 'myself', 'we', 'our', 'ours', 'ourselves', 'you', 'youre', 'youve', 'youll', 'youd', 'your', 'yours', 'yourself', 'yourselves', 'he', 'him', 'his', 'himself', 'she', 'shes', 'her', 'hers', 'herself', 'it', 'its', 'its', 'itself', 'they', 'them', 'their', 'theirs', 'themselves', 'what', 'which', 'who', 'whom', 'this', 'that', 'thatll', 'these', 'those', 'am', 'is', 'are', 'was', 'were', 'be', 'been', 'being', 'have', 'has', 'had', 'having', 'do', 'does', 'did', 'doing', 'a', 'an', 'the', 'and', 'but', 'if', 'or', 'because', 'as', 'until', 'while', 'of', 'at', 'by', 'for', 'with', 'about', 'against', 'between', 'into', 'through', 'during', 'before', 'after', 'above', 'below', 'to', 'from', 'up', 'down', 'in', 'out', 'on', 'off', 'over', 'under', 'again', 'further', 'then', 'once', 'here', 'there', 'when', 'where', 'why', 'how', 'all', 'any', 'both', 'each', 'few', 'more', 'most', 'other', 'some', 'such', 'no', 'nor', 'not', 'only', 'own', 'same', 'so', 'than', 'too', 'very', 's', 't', 'can', 'will', 'just', 'don', 'dont', 'should', 'shouldve', 'now', 'd', 'll', 'm', 'o', 're', 've', 'y', 'ain', 'aren', 'arent', 'couldn', 'couldnt', 'didn', 'didnt', 'doesn', 'doesnt', 'hadn', 'hadnt', 'hasn', 'hasnt', 'haven', 'havent', 'isn', 'isnt', 'ma', 'mightn', 'mightnt', 'mustn', 'mustnt', 'needn', 'neednt', 'shan', 'shant', 'shouldn', 'shouldnt', 'wasn', 'wasnt', 'weren', 'werent', 'won', 'wont', 'wouldn', 'wouldnt']\n"
     ]
    }
   ],
   "source": [
    "stop_words = (stopwords.words('english'))\n",
    "stopWords = []\n",
    "for word in stop_words:\n",
    "    word = word.translate(str.maketrans('','',string.punctuation))\n",
    "    stopWords.append(word)\n",
    "print(stopWords)"
   ]
  },
  {
   "cell_type": "code",
   "execution_count": 54,
   "metadata": {},
   "outputs": [
    {
     "name": "stdout",
     "output_type": "stream",
     "text": [
      "ive wait \n"
     ]
    }
   ],
   "source": [
    "genresList = ['blues_lyrics', 'country_lyrics', 'disco_lyrics', 'hiphop_lyrics', 'metal_lyrics', 'pop_lyrics', 'reggae_lyrics', 'rock_lyrics']\n",
    "genreLyrics = dict()\n",
    "lyricStopped = {\n",
    "    'blues': list(),\n",
    "    'country': list(),\n",
    "    'disco': list(),\n",
    "    'hiphop': list(),\n",
    "    'metal': list(),\n",
    "    'pop': list(),\n",
    "    'reggae': list(),\n",
    "    'rock': list(),\n",
    "}\n",
    "\n",
    "lmtzr = WordNetLemmatizer()\n",
    "porter = PorterStemmer()\n",
    "\n",
    "header = ['sentence', 'genre']\n",
    "\n",
    "with open(f'sentences.csv', 'w', newline = \"\") as file:\n",
    "    writer = csv.writer(file)\n",
    "    writer.writerow(header)\n",
    "\n",
    "for genreName in genresList:\n",
    "    genre = sorted(os.listdir(f'../genres2/{genreName}'))\n",
    "    \n",
    "    for song in genre:\n",
    "        \n",
    "        if song == '.DS_Store':\n",
    "            continue\n",
    "            \n",
    "        path = f'../genres2/{genreName}/{song}'\n",
    "        songName = open(path, 'r')\n",
    "        lyric = songName.read().lower()\n",
    "\n",
    "        lyric = lyric.translate(str.maketrans('','',string.punctuation))\n",
    "\n",
    "        paragraphs = [p for p in lyric.split('\\n') if p]\n",
    "        for paragraph in paragraphs:\n",
    "            sentence = sent_tokenize(paragraph)    \n",
    "            lyricStopped[genreName.replace('_lyrics','')].append(sentence)\n",
    "\n",
    "    with open(f'sentences.csv', 'a', newline = \"\") as file:\n",
    "        writer = csv.writer(file)\n",
    "        for key, value in lyricStopped.items():\n",
    "            for g in value:\n",
    "                g = str(g)\n",
    "                g = g.replace('[\\'','')\n",
    "                g = g.replace('\\']','')\n",
    "                words = g.split()\n",
    "                \n",
    "                words = [w for w in words if not w in stopWords]\n",
    "                words = [lmtzr.lemmatize(x) for x in words]\n",
    "                words = [porter.stem(x) for x in words]\n",
    "                g = ''\n",
    "                \n",
    "                for word in words:\n",
    "                    g += word + ' '\n",
    "                    \n",
    "                writer.writerow([g, key])\n",
    "print(g)"
   ]
  },
  {
   "cell_type": "code",
   "execution_count": 5,
   "metadata": {},
   "outputs": [
    {
     "name": "stdout",
     "output_type": "stream",
     "text": [
      "['true love goneha play fool ' 'true love goneha play fool '\n",
      " 'im turnin tabl ' ... 'noth realli matter ' 'noth realli matter '\n",
      " 'way wind blow ']\n",
      "['blues' 'blues' 'blues' ... 'rock' 'rock' 'rock']\n"
     ]
    }
   ],
   "source": [
    "dataset = pd.read_csv('sentences.csv')\n",
    "X = dataset.iloc[:, 0].values\n",
    "y = dataset.iloc[:, 1].values\n",
    "\n",
    "print(X)\n",
    "print(y)"
   ]
  },
  {
   "cell_type": "code",
   "execution_count": 6,
   "metadata": {},
   "outputs": [
    {
     "data": {
      "image/png": "[encoded data removed]",
      "text/plain": [
       "<Figure size 576x432 with 1 Axes>"
      ]
     },
     "metadata": {
      "needs_background": "light"
     },
     "output_type": "display_data"
    }
   ],
   "source": [
    "fig = plt.figure(figsize=(8,6))\n",
    "dataset.groupby('genre').sentence.count().plot.bar(ylim=0)\n",
    "plt.show()"
   ]
  },
  {
   "cell_type": "code",
   "execution_count": 7,
   "metadata": {},
   "outputs": [
    {
     "data": {
      "text/plain": [
       "(115395,)"
      ]
     },
     "execution_count": 7,
     "metadata": {},
     "output_type": "execute_result"
    }
   ],
   "source": [
    "sentence = X[:]\n",
    "sentence.shape"
   ]
  },
  {
   "cell_type": "code",
   "execution_count": 8,
   "metadata": {},
   "outputs": [
    {
     "data": {
      "text/plain": [
       "(115395, 1)"
      ]
     },
     "execution_count": 8,
     "metadata": {},
     "output_type": "execute_result"
    }
   ],
   "source": [
    "le = preprocessing.LabelEncoder()\n",
    "sent_encoded=le.fit_transform(sentence.astype(str))\n",
    "sent_encoded = np.reshape(sent_encoded,(-1,1))\n",
    "sent_encoded.shape"
   ]
  },
  {
   "cell_type": "code",
   "execution_count": 9,
   "metadata": {},
   "outputs": [
    {
     "name": "stdout",
     "output_type": "stream",
     "text": [
      "(115395, 1)\n"
     ]
    },
    {
     "data": {
      "text/plain": [
       "(115395,)"
      ]
     },
     "execution_count": 9,
     "metadata": {},
     "output_type": "execute_result"
    }
   ],
   "source": [
    "features = np.row_stack(sent_encoded)\n",
    "print(features.shape)\n",
    "y.shape"
   ]
  },
  {
   "cell_type": "markdown",
   "metadata": {},
   "source": [
    "## Naive Bayes "
   ]
  },
  {
   "cell_type": "code",
   "execution_count": 55,
   "metadata": {},
   "outputs": [],
   "source": [
    "from sklearn.model_selection import train_test_split\n",
    "X_train, X_test, y_train, y_test = train_test_split(features, y, test_size = 0.25, random_state = 15)"
   ]
  },
  {
   "cell_type": "code",
   "execution_count": 56,
   "metadata": {},
   "outputs": [
    {
     "data": {
      "text/plain": [
       "GaussianNB(priors=None, var_smoothing=1e-09)"
      ]
     },
     "execution_count": 56,
     "metadata": {},
     "output_type": "execute_result"
    }
   ],
   "source": [
    "from sklearn.naive_bayes import GaussianNB\n",
    "classifier = GaussianNB()\n",
    "classifier.fit(X_train,y_train)"
   ]
  },
  {
   "cell_type": "code",
   "execution_count": 57,
   "metadata": {},
   "outputs": [],
   "source": [
    "y_pred = classifier.predict(X_test)"
   ]
  },
  {
   "cell_type": "code",
   "execution_count": 58,
   "metadata": {},
   "outputs": [
    {
     "name": "stdout",
     "output_type": "stream",
     "text": [
      "[[   0    0    0 2881    0    0    0    0]\n",
      " [   0    0    0 4151    0    0    0    0]\n",
      " [   0    0    0 5703    0    0    0    0]\n",
      " [   0    0    0 7953    0    0    0    0]\n",
      " [   0    0    0 3351    0    0    0    0]\n",
      " [   0    0    0 2138    0    0    0    0]\n",
      " [   0    0    0 1798    0    0    0    0]\n",
      " [   0    0    0  874    0    0    0    0]]\n"
     ]
    }
   ],
   "source": [
    "from sklearn.metrics import confusion_matrix\n",
    "cm = confusion_matrix(y_test, y_pred)\n",
    "print(cm)"
   ]
  },
  {
   "cell_type": "code",
   "execution_count": 59,
   "metadata": {},
   "outputs": [
    {
     "name": "stdout",
     "output_type": "stream",
     "text": [
      "Accuracy: 0.2756767998890776\n"
     ]
    }
   ],
   "source": [
    "from sklearn import metrics\n",
    "\n",
    "# Model Accuracy, how often is the classifier correct?\n",
    "print(\"Accuracy:\",metrics.accuracy_score(y_test, y_pred))"
   ]
  },
  {
   "cell_type": "markdown",
   "metadata": {},
   "source": [
    "## Logistic Regression"
   ]
  },
  {
   "cell_type": "code",
   "execution_count": 60,
   "metadata": {},
   "outputs": [
    {
     "name": "stderr",
     "output_type": "stream",
     "text": [
      "/Library/Frameworks/Python.framework/Versions/3.7/lib/python3.7/site-packages/sklearn/linear_model/logistic.py:432: FutureWarning: Default solver will be changed to 'lbfgs' in 0.22. Specify a solver to silence this warning.\n",
      "  FutureWarning)\n",
      "/Library/Frameworks/Python.framework/Versions/3.7/lib/python3.7/site-packages/sklearn/linear_model/logistic.py:469: FutureWarning: Default multi_class will be changed to 'auto' in 0.22. Specify the multi_class option to silence this warning.\n",
      "  \"this warning.\", FutureWarning)\n"
     ]
    },
    {
     "name": "stdout",
     "output_type": "stream",
     "text": [
      "Accuracy: 0.2685708343443447\n"
     ]
    }
   ],
   "source": [
    "from sklearn.linear_model import LogisticRegression\n",
    "\n",
    "classifier = LogisticRegression()\n",
    "classifier.fit(X_train, y_train)\n",
    "score = classifier.score(X_test, y_test)\n",
    "\n",
    "print(\"Accuracy:\", score)"
   ]
  },
  {
   "cell_type": "code",
   "execution_count": 61,
   "metadata": {},
   "outputs": [
    {
     "name": "stdout",
     "output_type": "stream",
     "text": [
      "(86546, 1) (86546,)\n",
      "(28849, 1) (28849,)\n"
     ]
    }
   ],
   "source": [
    "print(X_train.shape,y_train.shape)\n",
    "print(X_test.shape,y_test.shape)"
   ]
  },
  {
   "cell_type": "markdown",
   "metadata": {},
   "source": [
    "## LSTM"
   ]
  },
  {
   "cell_type": "code",
   "execution_count": 62,
   "metadata": {},
   "outputs": [
    {
     "name": "stderr",
     "output_type": "stream",
     "text": [
      "/Library/Frameworks/Python.framework/Versions/3.7/lib/python3.7/site-packages/tensorflow_core/python/framework/indexed_slices.py:424: UserWarning: Converting sparse IndexedSlices to a dense Tensor of unknown shape. This may consume a large amount of memory.\n",
      "  \"Converting sparse IndexedSlices to a dense Tensor of unknown shape. \"\n"
     ]
    },
    {
     "name": "stdout",
     "output_type": "stream",
     "text": [
      "Train on 86546 samples, validate on 28849 samples\n",
      "Epoch 1/5\n",
      "86546/86546 [==============================] - 63s 733us/step - loss: 0.8505 - accuracy: 0.7173 - val_loss: 0.2140 - val_accuracy: 0.9365\n",
      "Epoch 2/5\n",
      "86546/86546 [==============================] - 65s 750us/step - loss: 0.1505 - accuracy: 0.9534 - val_loss: 0.1451 - val_accuracy: 0.9565\n",
      "Epoch 3/5\n",
      "86546/86546 [==============================] - 64s 738us/step - loss: 0.1037 - accuracy: 0.9659 - val_loss: 0.1291 - val_accuracy: 0.9574\n",
      "Epoch 4/5\n",
      "86546/86546 [==============================] - 62s 722us/step - loss: 0.0921 - accuracy: 0.9669 - val_loss: 0.1245 - val_accuracy: 0.9577\n",
      "Epoch 5/5\n",
      "86546/86546 [==============================] - 64s 740us/step - loss: 0.0876 - accuracy: 0.9670 - val_loss: 0.1217 - val_accuracy: 0.9592\n"
     ]
    }
   ],
   "source": [
    "from keras.models import Sequential\n",
    "from keras import layers\n",
    "from keras.layers import Embedding, SpatialDropout1D, LSTM, Dense\n",
    "from keras.callbacks import ModelCheckpoint, EarlyStopping\n",
    "from sklearn.preprocessing import LabelEncoder\n",
    "\n",
    "dataset = pd.read_csv('sentences.csv')\n",
    "X = dataset.iloc[:, 0].values\n",
    "y = dataset.iloc[:, 1].values\n",
    "\n",
    "encoder = LabelEncoder()\n",
    "y_enc = encoder.fit_transform(y)\n",
    "\n",
    "X_train, X_test, y_train, y_test = train_test_split(features, y_enc, test_size = 0.25, random_state = 15)\n",
    "\n",
    "# The maximum number of words to be used. (most frequent)\n",
    "MAX_NB_WORDS = 50000\n",
    "# Max number of words in each complaint.\n",
    "MAX_SEQUENCE_LENGTH = 250\n",
    "# This is fixed.\n",
    "EMBEDDING_DIM = 100\n",
    "\n",
    "model = Sequential()\n",
    "model.add(Embedding(MAX_NB_WORDS, EMBEDDING_DIM, input_length=X_train.shape[1]))\n",
    "model.add(SpatialDropout1D(0.2))\n",
    "model.add(LSTM(100, dropout=0.2, recurrent_dropout=0.2))\n",
    "model.add(Dense(8, activation='softmax'))\n",
    "model.compile(loss='sparse_categorical_crossentropy', optimizer='adam', metrics=['accuracy'])\n",
    "\n",
    "epochs = 5\n",
    "batch_size = 64\n",
    "\n",
    "history = model.fit(X_train, y_train, epochs=epochs, batch_size=batch_size,validation_data=(X_test, y_test),callbacks=[EarlyStopping(monitor='val_loss', patience=3, min_delta=0.0001)])"
   ]
  },
  {
   "cell_type": "code",
   "execution_count": 70,
   "metadata": {},
   "outputs": [
    {
     "name": "stdout",
     "output_type": "stream",
     "text": [
      "28849/28849 [==============================] - 1s 19us/step\n",
      "Test set\n",
      "  Loss: 0.122\n",
      "  Accuracy: 0.959\n"
     ]
    }
   ],
   "source": [
    "accr = model.evaluate(X_test,y_test)\n",
    "print('Test set\\n  Loss: {:0.3f}\\n  Accuracy: {:0.3f}'.format(accr[0],accr[1]))"
   ]
  },
  {
   "cell_type": "code",
   "execution_count": 71,
   "metadata": {},
   "outputs": [
    {
     "data": {
      "image/png": "[encoded data removed]",
      "text/plain": [
       "<Figure size 432x288 with 1 Axes>"
      ]
     },
     "metadata": {
      "needs_background": "light"
     },
     "output_type": "display_data"
    }
   ],
   "source": [
    "plt.title('Loss')\n",
    "plt.plot(history.history['loss'], label='train')\n",
    "plt.plot(history.history['val_loss'], label='test')\n",
    "plt.legend()\n",
    "plt.show();"
   ]
  },
  {
   "cell_type": "code",
   "execution_count": 72,
   "metadata": {},
   "outputs": [
    {
     "data": {
      "image/png": "[encoded data removed]",
      "text/plain": [
       "<Figure size 432x288 with 1 Axes>"
      ]
     },
     "metadata": {
      "needs_background": "light"
     },
     "output_type": "display_data"
    }
   ],
   "source": [
    "plt.title('Accuracy')\n",
    "plt.plot(history.history['accuracy'], label='train')\n",
    "plt.plot(history.history['val_accuracy'], label='test')\n",
    "plt.legend()\n",
    "plt.show();"
   ]
  },
  {
   "cell_type": "code",
   "execution_count": 108,
   "metadata": {},
   "outputs": [
    {
     "name": "stdout",
     "output_type": "stream",
     "text": [
      "i gotta funky funky rhyme with a funky style\n",
      "i gotta funky funky rhyme with a funky funky style\n",
      "i gotta funky rhyme... wit a funky funky style\n",
      "i gotta funky rhyme... wit a funky funky style\n",
      "pete's rickety rocket was my favorite cartoon\n",
      "after marriage the honeymoon\n",
      "i'll be damn gag me with a spoon\n",
      "who loves popeye, alice the goon\n",
      "ladies let your body flow\n",
      "send a chill up your spine like an eskimo\n",
      "here's a backstage pass to a funky show\n",
      "come give me a kiss under the missle toe\n",
      "greg nice, my lifes like a fairy tale\n",
      "orca, was a great big whale\n",
      "i knew a fat girl who broke the scale\n",
      "you won't tell, i won't tell\n",
      "clientele i must excel\n",
      "took a little test, i passed then failed\n",
      "breaks... huh, no need to hit'em\n",
      "skins, ya got 'em - i wanna get wit 'em!\n",
      "nice & smooth is funky\n",
      "also hip-hop junkies\n",
      "all we wanna do...\n",
      "is unh unh and you...\n",
      "nice & smooth is funky\n",
      "also hip-hop junkies\n",
      "all we wanna do...\n",
      "is unh unh, oh yeah\n",
      "yo, i gotta funky funky rhyme wit a funky funky style\n",
      "funky rhyme wit a funky funky style\n",
      "funky funky rhyme wit a funky funky style\n",
      "i gotta funky rhyme wit a funky funky style\n",
      "got outta my about eight\n",
      "and then i called greg nice cause it wasn't too late\n",
      "to get some skins and come around the block\n",
      "cause man, my tip is harder than a rock\n",
      "he said bet, so i let\n",
      "greg nice call this girl named annazette\n",
      "annazette, the teacher's pet\n",
      "you sure shes gonna come on this set\n",
      "he said smooth b don't you fret\n",
      "my twive is on his way yo, quite as kept\n",
      "the tall slim, fly kid with dope steps\n",
      "yep, coming with a box of hats\n",
      "yo greg nice is that girl all that\n",
      "he said smooth b the skins is fat\n",
      "i don't beg cause cause i'm not at begonia\n",
      "i dress warm so that i won't catch pneumonia\n",
      "my rhymes are stronger than ammonia\n",
      "i'm a diamond, you're a cubic zirconia (repeats & fades away)\n",
      "nice & smooth is funky\n",
      "also hip-hop junkies\n",
      "all we wanna do...\n",
      "is unh unh and you...\n",
      "nice & smooth is funky\n",
      "also hip-hop junkies\n",
      "all we wanna do...\n",
      "is unh unh and you...\n",
      "nice & smooth is funky\n",
      "also hip-hop junkies\n",
      "all we wanna do...\n",
      "is unh unh and you...\n",
      "nice & smooth is funky\n",
      "also hip-hop junkies\n",
      "all we wanna do...\n",
      "is unh unh and you...\n",
      "nice & smooth is funky\n",
      "also hip-hop junkies\n",
      "all we wanna do...\n",
      "is unh unh and you...\n"
     ]
    }
   ],
   "source": [
    "# Prediction\n",
    "testFile = open('../genres2/hiphop_lyrics/hiphop.00034.txt', 'r')\n",
    "testLyrics = testFile.read().lower()\n",
    "print(testLyrics)"
   ]
  },
  {
   "cell_type": "code",
   "execution_count": 109,
   "metadata": {},
   "outputs": [
    {
     "name": "stdout",
     "output_type": "stream",
     "text": [
      "['i gotta funky funky rhyme with a funky style', 'i gotta funky funky rhyme with a funky funky style', 'i gotta funky rhyme wit a funky funky style', 'i gotta funky rhyme wit a funky funky style', 'petes rickety rocket was my favorite cartoon', 'after marriage the honeymoon', 'ill be damn gag me with a spoon', 'who loves popeye alice the goon', 'ladies let your body flow', 'send a chill up your spine like an eskimo', 'heres a backstage pass to a funky show', 'come give me a kiss under the missle toe', 'greg nice my lifes like a fairy tale', 'orca was a great big whale', 'i knew a fat girl who broke the scale', 'you wont tell i wont tell', 'clientele i must excel', 'took a little test i passed then failed', 'breaks huh no need to hitem', 'skins ya got em  i wanna get wit em', 'nice  smooth is funky', 'also hiphop junkies', 'all we wanna do', 'is unh unh and you', 'nice  smooth is funky', 'also hiphop junkies', 'all we wanna do', 'is unh unh oh yeah', 'yo i gotta funky funky rhyme wit a funky funky style', 'funky rhyme wit a funky funky style', 'funky funky rhyme wit a funky funky style', 'i gotta funky rhyme wit a funky funky style', 'got outta my about eight', 'and then i called greg nice cause it wasnt too late', 'to get some skins and come around the block', 'cause man my tip is harder than a rock', 'he said bet so i let', 'greg nice call this girl named annazette', 'annazette the teachers pet', 'you sure shes gonna come on this set', 'he said smooth b dont you fret', 'my twive is on his way yo quite as kept', 'the tall slim fly kid with dope steps', 'yep coming with a box of hats', 'yo greg nice is that girl all that', 'he said smooth b the skins is fat', 'i dont beg cause cause im not at begonia', 'i dress warm so that i wont catch pneumonia', 'my rhymes are stronger than ammonia', 'im a diamond youre a cubic zirconia repeats  fades away', 'nice  smooth is funky', 'also hiphop junkies', 'all we wanna do', 'is unh unh and you', 'nice  smooth is funky', 'also hiphop junkies', 'all we wanna do', 'is unh unh and you', 'nice  smooth is funky', 'also hiphop junkies', 'all we wanna do', 'is unh unh and you', 'nice  smooth is funky', 'also hiphop junkies', 'all we wanna do', 'is unh unh and you', 'nice  smooth is funky', 'also hiphop junkies', 'all we wanna do', 'is unh unh and you']\n"
     ]
    }
   ],
   "source": [
    "testLyrics = testLyrics.translate(str.maketrans('','',string.punctuation))\n",
    "paragraphs = [p for p in testLyrics.split('\\n') if p]\n",
    "print(paragraphs)\n",
    "# sentence = sent_tokenize(paragraphs)\n",
    "# print(sentence)"
   ]
  },
  {
   "cell_type": "code",
   "execution_count": 110,
   "metadata": {},
   "outputs": [],
   "source": [
    "# from keras.preprocessing.text import Tokenizer\n",
    "# from keras.preprocessing.sequence import pad_sequences\n",
    "# predictedLabels = []\n",
    "# tk = Tokenizer()\n",
    "# from statistics import mode\n",
    "\n",
    "# labels = ['blues', 'country', 'disco', 'hiphop', 'metal','pop','reggae', 'rock']\n",
    "\n",
    "# for sentence in paragraphs:\n",
    "# #     sentence = sent_tokenize(para)\n",
    "# #     g = str(sentence)\n",
    "# #     g = g.replace('[\\'','')\n",
    "# #     g = g.replace('\\']','')\n",
    "#     words = sentence.split()\n",
    "# #     print(words)\n",
    "\n",
    "#     words = [w for w in words if not w in stopWords]\n",
    "#     words = [lmtzr.lemmatize(x) for x in words]\n",
    "#     words = [porter.stem(x) for x in words]\n",
    "#     sentence = ''\n",
    "\n",
    "#     for word in words:\n",
    "#         sentence += word + ' '\n",
    "#     print(sentence)\n",
    "    \n",
    "#     tk.fit_on_texts(sentence)\n",
    "#     index_list = tk.texts_to_sequences(sentence)\n",
    "#     padded = pad_sequences(index_list, maxlen=1)\n",
    "#     pred = model.predict(padded)\n",
    "    \n",
    "#     print(pred)\n",
    "# #     print(pred, labels[np.argmax(pred)])\n",
    "# #     predictedLabels.append(labels[np.argmax(pred)])\n",
    "# # print(mode(predictedLabels))"
   ]
  },
  {
   "cell_type": "code",
   "execution_count": 111,
   "metadata": {},
   "outputs": [
    {
     "name": "stdout",
     "output_type": "stream",
     "text": [
      "hiphop\n",
      "hiphop\n",
      "hiphop\n",
      "hiphop\n",
      "disco\n",
      "blues\n",
      "metal\n",
      "rock\n",
      "hiphop\n",
      "metal\n",
      "metal\n",
      "hiphop\n",
      "metal\n",
      "rock\n",
      "disco\n",
      "hiphop\n",
      "rock\n",
      "hiphop\n",
      "pop\n",
      "blues\n",
      "rock\n",
      "hiphop\n",
      "disco\n",
      "blues\n",
      "rock\n",
      "hiphop\n",
      "rock\n",
      "rock\n",
      "hiphop\n",
      "hiphop\n",
      "hiphop\n",
      "hiphop\n",
      "reggae\n",
      "hiphop\n",
      "country\n",
      "hiphop\n",
      "hiphop\n",
      "hiphop\n",
      "rock\n",
      "disco\n",
      "disco\n",
      "rock\n",
      "reggae\n",
      "hiphop\n",
      "metal\n",
      "hiphop\n",
      "metal\n",
      "hiphop\n",
      "pop\n",
      "pop\n",
      "rock\n",
      "hiphop\n",
      "rock\n",
      "rock\n",
      "rock\n",
      "hiphop\n",
      "hiphop\n",
      "rock\n",
      "rock\n",
      "blues\n",
      "hiphop\n",
      "metal\n",
      "rock\n",
      "blues\n",
      "pop\n",
      "reggae\n",
      "rock\n",
      "rock\n",
      "blues\n",
      "hiphop\n",
      "Predicted Output: hiphop\n"
     ]
    }
   ],
   "source": [
    "from keras.preprocessing.text import Tokenizer\n",
    "from keras.preprocessing.sequence import pad_sequences\n",
    "predictedLabels = []\n",
    "tk = Tokenizer()\n",
    "from statistics import mode\n",
    "\n",
    "labels = ['blues', 'country', 'disco', 'hiphop', 'metal','pop', 'reggae', 'rock']\n",
    "\n",
    "for para in paragraphs:\n",
    "    sentence = sent_tokenize(para)\n",
    "    \n",
    "    tk.fit_on_texts(sentence)\n",
    "    index_list = tk.texts_to_sequences(sentence)\n",
    "    padded = pad_sequences(index_list, maxlen=1)\n",
    "    pred = model.predict(padded)\n",
    "    \n",
    "#     print(pred)\n",
    "    print(labels[np.argmax(pred)])\n",
    "    predictedLabels.append(labels[np.argmax(pred)])\n",
    "print('Predicted Output: ' + mode(predictedLabels))"
   ]
  },
  {
   "cell_type": "code",
   "execution_count": null,
   "metadata": {},
   "outputs": [],
   "source": []
  }
 ],
 "metadata": {
  "kernelspec": {
   "display_name": "Python 3",
   "language": "python",
   "name": "python3"
  },
  "language_info": {
   "codemirror_mode": {
    "name": "ipython",
    "version": 3
   },
   "file_extension": ".py",
   "mimetype": "text/x-python",
   "name": "python",
   "nbconvert_exporter": "python",
   "pygments_lexer": "ipython3",
   "version": "3.7.4"
  }
 },
 "nbformat": 4,
 "nbformat_minor": 2
}
